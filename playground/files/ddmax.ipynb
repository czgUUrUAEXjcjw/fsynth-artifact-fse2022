{
  "metadata": {
    "language_info": {
      "codemirror_mode": {
        "name": "python",
        "version": 3
      },
      "file_extension": ".py",
      "mimetype": "text/x-python",
      "name": "python",
      "nbconvert_exporter": "python",
      "pygments_lexer": "ipython3",
      "version": "3.8"
    },
    "kernelspec": {
      "name": "python",
      "display_name": "Pyolite",
      "language": "python"
    }
  },
  "nbformat_minor": 4,
  "nbformat": 4,
  "cells": [
    {
      "cell_type": "markdown",
      "source": "# In-Browser Decoder Playground",
      "metadata": {}
    },
    {
      "cell_type": "markdown",
      "source": "This environment is hosted completely in the browser, and can be used to experiment with the _decoder_ implementation. Note that many of these programs will fail to terminate in the alloted limits of iteration, input etc. These are expected (especially given WASM+Python which introduces a few orders of magnitude performance hit). We need much less than 1% of these to complete to generate reasonable inputs.",
      "metadata": {}
    },
    {
      "cell_type": "code",
      "source": "import random",
      "metadata": {
        "trusted": true
      },
      "execution_count": null,
      "outputs": []
    },
    {
      "cell_type": "markdown",
      "source": "## Status\n\nWe start by providing the status codes that we use in decoder. These are _complete_, _incomplete_, and _incorrect_.",
      "metadata": {}
    },
    {
      "cell_type": "code",
      "source": "import enum",
      "metadata": {
        "trusted": true
      },
      "execution_count": null,
      "outputs": []
    },
    {
      "cell_type": "code",
      "source": "class Status(enum.Enum):\n    Complete = 0\n    Incomplete = 1\n    Incorrect = -1",
      "metadata": {
        "trusted": true
      },
      "execution_count": null,
      "outputs": []
    },
    {
      "cell_type": "markdown",
      "source": "## Alphabets\nOur algorithm relies on iterating through all possible alphabets of the language; For convenience, we define it as the *printable* subset of ASCII letters.",
      "metadata": {}
    },
    {
      "cell_type": "code",
      "source": "import string\nSET_OF_BYTES = {c for c in string.printable}",
      "metadata": {
        "trusted": true
      },
      "execution_count": null,
      "outputs": []
    },
    {
      "cell_type": "code",
      "source": "def new_byte(choices):\n    v = random.choice(choices)\n    return v",
      "metadata": {
        "trusted": true
      },
      "execution_count": null,
      "outputs": []
    },
    {
      "cell_type": "markdown",
      "source": "## Logger\n\nWe provide a simple logger.",
      "metadata": {}
    },
    {
      "cell_type": "code",
      "source": "import sys",
      "metadata": {
        "trusted": true
      },
      "execution_count": null,
      "outputs": []
    },
    {
      "cell_type": "code",
      "source": "def logit(*v):\n    print(*v, file=sys.stderr)\n    return",
      "metadata": {
        "trusted": true
      },
      "execution_count": null,
      "outputs": []
    },
    {
      "cell_type": "markdown",
      "source": "## Limits\n\nWe define a few limits to the algorithm. In particular, we do not go beyond `ITERATION_LIMIT` and we stop and discard the input if the input crosses `INPUT_LIMIT` without returning *complete*.",
      "metadata": {}
    },
    {
      "cell_type": "code",
      "source": "ITERATION_LIMIT=1000\nINPUT_LIMIT=100",
      "metadata": {
        "trusted": true
      },
      "execution_count": null,
      "outputs": []
    },
    {
      "cell_type": "code",
      "source": "import itertools",
      "metadata": {
        "trusted": true
      },
      "execution_count": null,
      "outputs": []
    },
    {
      "cell_type": "markdown",
      "source": "## Exceptions\nWe need a few exceptions first.",
      "metadata": {}
    },
    {
      "cell_type": "code",
      "source": "class NeedMoreException(Exception): ...\nclass InvalidValueException(Exception): ...\nclass InputLimitException(Exception): ...\nclass IterationLimitException(Exception): ...\nclass BacktrackLimitException(Exception): ...",
      "metadata": {
        "trusted": true
      },
      "execution_count": null,
      "outputs": []
    },
    {
      "cell_type": "markdown",
      "source": "## The Decoder\n\n### Choices\n\nNormally, alphabets are sufficient as concat units for checking validity of prefixes. But sometimes, you need to produce longer concate units.",
      "metadata": {
        "tags": []
      }
    },
    {
      "cell_type": "code",
      "source": "def till_n_length_choices(my_choices, rs):\n    all_choices = []\n    for r in range(1, rs+1):\n        v = [''.join(i) for i in itertools.product(my_choices, repeat=r)]\n        random.shuffle(v)\n        all_choices.extend(v)\n    return all_choices",
      "metadata": {
        "trusted": true
      },
      "execution_count": null,
      "outputs": []
    },
    {
      "cell_type": "code",
      "source": "till_n_length_choices(string.digits, 1)",
      "metadata": {
        "trusted": true
      },
      "execution_count": null,
      "outputs": []
    },
    {
      "cell_type": "code",
      "source": "till_n_length_choices(string.digits, 2)",
      "metadata": {
        "trusted": true
      },
      "execution_count": null,
      "outputs": []
    },
    {
      "cell_type": "markdown",
      "source": "### Backtracking\n\nSometimes you have to backtrack.",
      "metadata": {}
    },
    {
      "cell_type": "code",
      "source": "def backtrack(prev_bytes, all_choices, seen_at):\n    if not prev_bytes:\n        raise BacktrackLimitException('Cant backtrack beyond zero index')\n    # backtrack one byte\n    seen = seen_at[len(prev_bytes)-1]\n    seen_at.pop()\n    last_byte = prev_bytes[-1]\n    logit('backtracking %d %s' % (len(prev_bytes), last_byte))\n    #assert (last_byte,) in seen\n    prev_bytes = prev_bytes[:-1]\n    choices = [i for i in all_choices if i not in seen]\n    if not choices:\n        return backtrack(prev_bytes, all_choices, seen_at)\n    return seen, prev_bytes, choices",
      "metadata": {
        "trusted": true
      },
      "execution_count": null,
      "outputs": []
    },
    {
      "cell_type": "markdown",
      "source": "### The Decoder algorithm",
      "metadata": {}
    },
    {
      "cell_type": "code",
      "source": "def generate(validate, prev_bytes=None, tokens=set()):\n    seen_at = []\n    alphabet = SET_OF_BYTES | tokens\n    all_choices = alphabet\n    if prev_bytes is None: prev_bytes = ''\n    seen = set()\n    iter_limit = ITERATION_LIMIT\n    while iter_limit:\n        if len(prev_bytes) > INPUT_LIMIT:\n            raise InputLimitException('Exhausted %d bytes' % INPUT_LIMIT)\n        iter_limit -= 1\n        choices = [i for i in all_choices if i not in seen]\n        if not choices:\n            seen, prev_bytes, choices = backtrack(prev_bytes, all_choices, seen_at)\n\n        byte = new_byte(choices)\n        cur_bytes = prev_bytes + byte\n        l_cur_bytes = len(cur_bytes)\n\n        logit('%s %s' % (repr(cur_bytes), len(cur_bytes)))\n\n        rv, n,s = validate(cur_bytes)\n        if rv == Status.Complete:\n            return cur_bytes\n        elif rv == Status.Incomplete:\n            seen.add(byte)  # dont explore this byte again\n            prev_bytes = cur_bytes\n            seen_at.append(seen)\n            seen = set()\n\n            # reset this if it was modified by incorrect\n            all_choices = list(alphabet)\n        elif rv == Status.Incorrect:\n            if n is None or n == -1:\n                seen.add(byte)\n                continue\n            else:\n                logit(\"-%s %s\" % (len(choices), len(seen)))\n                if n < len(seen_at):\n                    seen = seen_at[n]\n                    seen_at = seen_at[:n]\n                seen.add(byte)\n                rs = len(cur_bytes) - n\n                all_choices = till_n_length_choices(list(alphabet), min(rs, 2))\n                prev_bytes = prev_bytes[:n]\n        else:\n            raise Exception(rv)\n    raise IterationLimitException('Exhausted %d loops' % ITERATION_LIMIT)\n",
      "metadata": {
        "trusted": true
      },
      "execution_count": null,
      "outputs": []
    },
    {
      "cell_type": "markdown",
      "source": "## Example Hello",
      "metadata": {}
    },
    {
      "cell_type": "code",
      "source": "def conforming_hello(inputstr):\n    try:\n        if inputstr[0] != 'H':\n            return Status.Incorrect, None, ''\n        if inputstr[1] != 'E':\n            return Status.Incorrect, None, ''\n        if inputstr[2] != 'L':\n            return Status.Incorrect, None, ''\n        if inputstr[3] != 'L':\n            return Status.Incorrect, None, ''\n        if inputstr[4] != 'O':\n            return Status.Incorrect, None, ''\n        return Status.Complete, None, ''\n    except IndexError:\n        return Status.Incomplete, None, ''",
      "metadata": {
        "trusted": true
      },
      "execution_count": null,
      "outputs": []
    },
    {
      "cell_type": "code",
      "source": "generate(conforming_hello)",
      "metadata": {
        "trusted": true
      },
      "execution_count": null,
      "outputs": []
    },
    {
      "cell_type": "markdown",
      "source": "## Example Paren",
      "metadata": {}
    },
    {
      "cell_type": "code",
      "source": "def parens(xs):\n    stack = [[]]\n    while True:\n        x, xs = xs[0], xs[1:]\n        if x == '(':\n            stack[-1].append([])\n            stack.append(stack[-1][-1])\n        elif x == ')':\n            stack.pop()\n            if not stack:\n                raise Exception('error: opening bracket is missing')\n                #raise ValueError('error: opening bracket is missing')\n        elif x in '01':\n            stack[-1].append(x)\n        else:\n            raise Exception('error: Only binary numbers')\n        if xs == '':\n            break\n    if len(stack) > 1:\n        raise Exception('incomplete: closing bracket is missing')\n        #raise ValueError('error: closing bracket is missing')\n    return stack.pop()",
      "metadata": {
        "trusted": true
      },
      "execution_count": null,
      "outputs": []
    },
    {
      "cell_type": "code",
      "source": "def conforming_parens(input_str):\n    try:\n        parens(input_str)\n        return Status.Complete,-1,\"\"\n    except Exception as e:\n        msg = str(e)\n        if msg.startswith(\"incomplete:\"):\n            n = len(msg)\n            return Status.Incomplete, None, \"\"\n        elif msg.startswith(\"error\"):\n            return Status.Incorrect,None, input_str[-1]\n        else:\n            raise e",
      "metadata": {
        "trusted": true
      },
      "execution_count": null,
      "outputs": []
    },
    {
      "cell_type": "code",
      "source": "generate(conforming_parens)",
      "metadata": {
        "trusted": true
      },
      "execution_count": null,
      "outputs": []
    },
    {
      "cell_type": "markdown",
      "source": "## Example JSON",
      "metadata": {
        "tags": []
      }
    },
    {
      "cell_type": "code",
      "source": "import json",
      "metadata": {
        "trusted": true
      },
      "execution_count": null,
      "outputs": []
    },
    {
      "cell_type": "code",
      "source": "JSON_TOKENS = ['true', 'false', 'null']",
      "metadata": {
        "trusted": true
      },
      "execution_count": null,
      "outputs": []
    },
    {
      "cell_type": "code",
      "source": "PREFIX = {}\nfor token in JSON_TOKENS:\n    PREFIX[token] = [token[0:i+1] for i in range(len(token)-1)]",
      "metadata": {
        "trusted": true
      },
      "execution_count": null,
      "outputs": []
    },
    {
      "cell_type": "code",
      "source": "PREFIX",
      "metadata": {
        "trusted": true
      },
      "execution_count": null,
      "outputs": []
    },
    {
      "cell_type": "code",
      "source": "def it_fits(input_str):\n    try:\n        json.loads(input_str)\n        logit('*', repr(input_str))\n        return True\n    except Exception as e:\n        msg = str(e)\n        if msg.startswith('Expecting'):\n            # Expecting value: line 1 column 4 (char 3)\n            n = int(msg.rstrip(')').split()[-1])\n            if n >= len(input_str):\n                logit('+', repr(input_str))\n                return True\n        return False",
      "metadata": {
        "trusted": true
      },
      "execution_count": null,
      "outputs": []
    },
    {
      "cell_type": "code",
      "source": "def conforming_json(input_str):\n    try:\n        json.loads(input_str)\n        logit('*', repr(input_str))\n        return Status.Complete, -1, ''\n    except Exception as e:\n        msg = str(e)\n        if msg.startswith('Expecting'):\n            # Expecting value: line 1 column 4 (char 3)\n            n = int(msg.rstrip(')').split()[-1])\n            # If the error is 'outside' the string, it can still be valid\n            if n >= len(input_str):\n                logit('+', repr(input_str))\n                return Status.Incomplete, n, ''\n            elif len(input_str) > 1 and input_str[-1] == '.' and input_str[-2].isdigit():\n                # JSON returns incorrect for [3. rather than incomplete.\n                return Status.Incomplete, n, ''\n            else:\n                logit('X', repr(input_str))\n                remaining = input_str[n:]\n                for word in JSON_TOKENS:\n                    if remaining in PREFIX[word]:\n                        # check if it fits first.\n                        if it_fits(input_str[:n] + word):\n                            return Status.Incomplete, n, input_str[n]\n                return Status.Incorrect, None, input_str[n]\n        elif msg.startswith('Unterminated'):\n            # Unterminated string starting at: line 1 column 1 (char 0)\n            n = int(msg.rstrip(')').split()[-1])\n            if n >= len(input_str):\n                logit('+', repr(input_str))\n                return Status.Incomplete, n, ''\n            else:\n                logit('+', repr(input_str))\n                return Status.Incomplete, n, input_str[n]\n        elif msg.startswith('Extra data'):\n            n = int(msg.rstrip(')').split()[-1])\n            if n >= len(input_str):\n                logit('X', repr(input_str))\n                return Status.Incorrect, None, ''\n            else:\n                logit('X', repr(input_str))\n                return Status.Incorrect, None, input_str[n]\n        elif msg.startswith('Invalid '):\n            idx = msg.find('(char ')\n            eidx = msg.find(')')\n            s = msg[idx + 6:eidx]\n            n = int(s)\n            logit('X', repr(input_str))\n            return Status.Incorrect, None, input_str[n]\n        else:\n            raise e",
      "metadata": {
        "trusted": true
      },
      "execution_count": null,
      "outputs": []
    },
    {
      "cell_type": "code",
      "source": "(js_ex := generate(conforming_json))",
      "metadata": {
        "trusted": true
      },
      "execution_count": null,
      "outputs": []
    },
    {
      "cell_type": "code",
      "source": "print(json.dumps(json.loads(js_ex), indent=4))",
      "metadata": {
        "trusted": true
      },
      "execution_count": null,
      "outputs": []
    },
    {
      "cell_type": "markdown",
      "source": "## Example Imprecise Hello",
      "metadata": {}
    },
    {
      "cell_type": "code",
      "source": "def conforming_ihello(inputstr):\n    try:\n        if inputstr[0] != 'H':\n            return Status.Incorrect, 0, ''\n        if inputstr[1] != 'E':                                                   \n            return Status.Incorrect, 1, ''\n        if inputstr[2] != 'L':\n            return Status.Incorrect, 2, ''\n        v = inputstr[3:5]\n        if len(v) != 2: raise IndexError\n        if v != 'LO':\n            return Status.Incorrect, 3, ''\n        return Status.Complete, None, ''\n    except IndexError:\n        return Status.Incomplete, len(inputstr), ''",
      "metadata": {
        "trusted": true
      },
      "execution_count": null,
      "outputs": []
    },
    {
      "cell_type": "markdown",
      "source": "Unfortunately WASM+Python imposes a really huge overhead. So, we limit our alphabet to have any hope to finish in time.",
      "metadata": {}
    },
    {
      "cell_type": "code",
      "source": "SET_OF_BYTES = {c for c in string.ascii_uppercase}",
      "metadata": {
        "trusted": true
      },
      "execution_count": null,
      "outputs": []
    },
    {
      "cell_type": "code",
      "source": "generate(conforming_ihello)",
      "metadata": {
        "tags": [],
        "trusted": true
      },
      "execution_count": null,
      "outputs": []
    },
    {
      "cell_type": "markdown",
      "source": "## Example MathExpr",
      "metadata": {}
    },
    {
      "cell_type": "code",
      "source": "class Parser:\n    def __init__(self, string, vars={}):\n        self.string = string\n        self.index = 0\n        self.vars = {\n            'pi': 3.141592653589793,\n            'e': 2.718281828459045\n        }\n        for var in vars.keys():\n            if self.getVarValue(var) != None:\n                raise Exception(\"Cannot redefine the value of \" + var)\n            self.vars[var] = vars[var]\n\n    def hasVar(self, v):\n        for k in self.vars.keys():\n            if v == k:\n                return True\n        return False\n\n    def getVarValue(self, v, default):\n        if not self.hasVar(v): return default\n        return self.vars[v]\n\n    def getValue(self):\n        value = self.parseExpression()\n        self.skipWhitespace()\n        if self.hasNext():\n            raise Exception(\n                \"Unexpected character found: '\" +\n                self.peek() +\n                \"' at index \" +\n                str(self.index))\n        return value\n\n    def peek(self):\n        return self.string[self.index:self.index + 1]\n\n    def hasNext(self):\n        return self.string[self.index:] != ''\n\n    def skipWhitespace(self):\n        while self.hasNext():\n            if self.peek() in ' \\t\\n\\r':\n                self.index += 1\n            else:\n                return\n\n    def parseExpression(self):\n        return self.parseAddition()\n\n    def parseAddition(self):\n        values = [self.parseMultiplication()]\n        while True:\n            self.skipWhitespace()\n            char = self.peek()\n            if char == '+':\n                self.index += 1\n                values.append(self.parseMultiplication())\n            elif char == '-':\n                self.index += 1\n                values.append(-1 * self.parseMultiplication())\n            else:\n                break\n        return sum(values)\n\n    def parseMultiplication(self):\n        values = [self.parseParenthesis()]\n        while True:\n            self.skipWhitespace()\n            char = self.peek()\n            if char == '*':\n                self.index += 1\n                values.append(self.parseParenthesis())\n            elif char == '/':\n                div_index = self.index\n                self.index += 1\n                denominator = self.parseParenthesis()\n                if denominator == 0:\n                    raise Exception(\n                        \"Division by 0 kills baby whales (occured at index \" +\n                        str(div_index) +\n                        \")\")\n                values.append(1.0 / denominator)\n            else:\n                break\n        value = 1.0\n        for factor in values:\n            value *= factor\n        return value\n\n    def parseParenthesis(self):\n        self.skipWhitespace()\n        char = self.peek()\n        if char == '(':\n            self.index += 1\n            value = self.parseExpression()\n            self.skipWhitespace()\n            c = self.peek()\n            if c and c != ')':\n                raise Exception('Only numbers')\n            if self.peek() != ')':\n                raise Exception(\n                    \"No closing parenthesis found at character \"\n                    + str(self.index))\n            self.index += 1\n            return value\n        else:\n            return self.parseNegative()\n\n    def parseNegative(self):\n        self.skipWhitespace()\n        char = self.peek()\n        if char == '-':\n            self.index += 1\n            return -1 * self.parseParenthesis()\n        else:\n            return self.parseValue()\n\n    def parseValue(self):\n        self.skipWhitespace()\n        char = self.peek()\n        if char in '0123456789.':\n            return self.parseNumber()\n        else:\n            raise Exception('Only numbers')\n            #return self.parseVariable()\n\n    def parseVariable(self):\n        self.skipWhitespace()\n        var = ''\n        while self.hasNext():\n            char = self.peek()\n            if char.lower() in '_abcdefghijklmnopqrstuvwxyz0123456789':\n                var += char\n                self.index += 1\n            else:\n                break\n\n        value = self.getVarValue(var, None)\n        if value == None:\n            raise Exception( \"Unrecognized variable: '\" + var + \"'\")\n        return float(value)\n\n    def parseNumber(self):\n        self.skipWhitespace()\n        strValue = ''\n        decimal_found = False\n        char = None\n\n        while self.hasNext():\n            char = self.peek()\n            if char == '.':\n                if decimal_found:\n                    raise Exception(\n                        \"Found an extra period in a number at character \" +\n                        str(self.index) +\n                        \". Are you European?\")\n                decimal_found = True\n                strValue += '.'\n            elif char in '0123456789':\n                strValue += char\n            else:\n                break\n            self.index += 1\n\n        if len(strValue) == 0:\n            if char == '' or char is None:\n                raise Exception(\"Unexpected end found\")\n            else:\n                raise Exception(\n                    \"I was expecting to find a number at character \" +\n                    str(self.index) +\n                    \" but instead I found a '\" +\n                    str(char) +\n                    \"'. What's up with that?\")\n\n        return float(strValue)",
      "metadata": {
        "trusted": true
      },
      "execution_count": null,
      "outputs": []
    },
    {
      "cell_type": "code",
      "source": "def conforming_mathexpr(s):\n    try:\n        p = Parser(s)\n        p.getValue()\n        return Status.Complete, None, ''\n    except Exception as e:\n        msg = str(e)\n        if msg.startswith('Unexpected end'):\n            return Status.Incomplete, None, ''\n        if msg.startswith('Unrecognized variable:'):\n            return Status.Incorrect, None, ''\n        if msg.startswith('Unexpected character found'):\n            return Status.Incorrect, None, ''\n        if msg.startswith('Only numbers'):\n            return Status.Incorrect, None, ''\n        if msg.startswith('No closing parenthesis found'):\n            return Status.Incomplete, None, ''\n        if msg.startswith('could not convert string to float:'):\n            # semantics\n            return Status.Complete, None, ''\n        if msg.startswith('Cannot redefine the value of '):\n            # semantics\n            return Status.Complete, None, ''\n        if msg.startswith('Division by 0'):\n            # semantics\n            return Status.Complete, None, ''\n        #print(e)\n        #print(str(e))\n        raise e",
      "metadata": {
        "trusted": true
      },
      "execution_count": null,
      "outputs": []
    },
    {
      "cell_type": "markdown",
      "source": "We reset the alphabet first.",
      "metadata": {}
    },
    {
      "cell_type": "code",
      "source": "SET_OF_BYTES = {c for c in string.printable}",
      "metadata": {
        "trusted": true
      },
      "execution_count": null,
      "outputs": []
    },
    {
      "cell_type": "code",
      "source": "(v := generate(conforming_mathexpr))",
      "metadata": {
        "trusted": true
      },
      "execution_count": null,
      "outputs": []
    },
    {
      "cell_type": "markdown",
      "source": "## PyParsing",
      "metadata": {}
    },
    {
      "cell_type": "code",
      "source": "import pyparsing\nfrom pyparsing import *",
      "metadata": {
        "trusted": true
      },
      "execution_count": null,
      "outputs": []
    },
    {
      "cell_type": "markdown",
      "source": "Pyparsing can have numerous alternative parses. So, we limit our iteration, so that our browser does not hang.",
      "metadata": {}
    },
    {
      "cell_type": "code",
      "source": "ITERATION_LIMIT=1000",
      "metadata": {
        "trusted": true
      },
      "execution_count": null,
      "outputs": []
    },
    {
      "cell_type": "code",
      "source": "INPUT_LIMIT=100",
      "metadata": {
        "trusted": true
      },
      "execution_count": null,
      "outputs": []
    },
    {
      "cell_type": "markdown",
      "source": "With pyparsing, the parser provides the required information directly. We do not have to do much work.",
      "metadata": {}
    },
    {
      "cell_type": "code",
      "source": "def conforming_pyparse(expr, s):\n    try:\n        expr.parseString(s)\n        return Status.Complete, None, ''\n    except ParseException as e:\n        if e.loc < len(s):\n            return Status.Incorrect, None, ''\n        else:\n            return Status.Incomplete, None, ''\n        print(e.pstr)\n        print(e)",
      "metadata": {
        "trusted": true
      },
      "execution_count": null,
      "outputs": []
    },
    {
      "cell_type": "markdown",
      "source": "Pyparsing returns incorrect result when escape sequences are involved. So, we filter them out",
      "metadata": {}
    },
    {
      "cell_type": "code",
      "source": "aword = Word(alphas) + \"!\"",
      "metadata": {
        "trusted": true
      },
      "execution_count": null,
      "outputs": []
    },
    {
      "cell_type": "code",
      "source": "for my_string in ['ab', 'a\\tb', 'a\\nb', 'a\\\\b']:\n    try:\n        aword.parseString(my_string)\n    except ParseException as e:\n        print(e.loc, repr(e.pstr))",
      "metadata": {
        "trusted": true
      },
      "execution_count": null,
      "outputs": []
    },
    {
      "cell_type": "code",
      "source": "SET_OF_BYTES = {c for c in string.printable if c not in \"\\n\\t\\r\\x0b\\x0c\\\\\"}",
      "metadata": {
        "trusted": true
      },
      "execution_count": null,
      "outputs": []
    },
    {
      "cell_type": "markdown",
      "source": "### Hello World",
      "metadata": {}
    },
    {
      "cell_type": "code",
      "source": "greet = Word(alphas) + \",\" + Word(alphas) + \"!\"",
      "metadata": {
        "trusted": true
      },
      "execution_count": null,
      "outputs": []
    },
    {
      "cell_type": "code",
      "source": "def conforming_greet(s):\n    return conforming_pyparse(greet, s)",
      "metadata": {
        "trusted": true
      },
      "execution_count": null,
      "outputs": []
    },
    {
      "cell_type": "code",
      "source": "generate(conforming_greet)",
      "metadata": {
        "trusted": true
      },
      "execution_count": null,
      "outputs": []
    },
    {
      "cell_type": "markdown",
      "source": "### IP Address",
      "metadata": {
        "tags": []
      }
    },
    {
      "cell_type": "markdown",
      "source": "With IP address, we limit to ipv4",
      "metadata": {}
    },
    {
      "cell_type": "code",
      "source": "tests=\"\"\"#\n127.0.0.1                       # The \"localhost\" IPv4 address\n127.0.0.1:80                    # The \"localhost\" IPv4 address, with a specified port (80)\n192.168.0.1                     # private\n256.0.0.0                       # invalid, octet > 255 (currently not detected)\n\"\"\"\n\ndef join(args):\n    args[0]=\"\".join(args)\n    del args[1:]\n\ndef replace(val):\n    def lambda_replace(args):\n        args[0]=val\n        del args[1:]\n    return lambda_replace\n \ndef atoi(args): args[0]=int(args[0])\ndef itohex2(args): args[0]=\"%02x\"%args[0]\n \ndef hextoi(args): args[0]=int(args[0], 16)\ndef itohex4(args): args[0]=\"%04x\"%args[0]\n \ndef assert_in_range(lwb, upb):\n    def range_check(args):\n        return # turn range checking off\n        if args[0] < lwb:\n            raise ValueError(\"value %d < %d\"%(args[0], lwb))\n        if args[0] > upb:\n            raise ValueError(\"value %d > %d\"%(args[0], upb))\n    return range_check\n \ndot = Literal(\".\").suppress()(\"dot\"); colon = Literal(\":\").suppress()(\"colon\")\noctet = Word(nums).setParseAction(atoi,assert_in_range(0,255),itohex2)(\"octet\");\n \nport = Word(nums).setParseAction(atoi,assert_in_range(0,256*256-1))(\"port\")\nipv4 = (octet + (dot+octet)*3)(\"addr\")\nipv4.setParseAction(join) #,hextoi)\n \nipv4_port = ipv4+colon.suppress()+port\n \nip_fmt = (\n           (ipv4_port|ipv4)(\"ipv4\")\n         ) + LineEnd()\n",
      "metadata": {
        "trusted": true
      },
      "execution_count": null,
      "outputs": []
    },
    {
      "cell_type": "code",
      "source": "def conforming_ipaddress(s):\n    return conforming_pyparse(ip_fmt, s)",
      "metadata": {
        "trusted": true
      },
      "execution_count": null,
      "outputs": []
    },
    {
      "cell_type": "code",
      "source": "generate(conforming_ipaddress)",
      "metadata": {
        "trusted": true
      },
      "execution_count": null,
      "outputs": []
    },
    {
      "cell_type": "markdown",
      "source": "### SSN",
      "metadata": {}
    },
    {
      "cell_type": "code",
      "source": "dash = '-'\n\nssn_parser = Combine(\n  Word(nums, exact=3)\n  + dash\n  + Word(nums, exact=2)\n  + dash\n  + Word(nums, exact=4)\n)",
      "metadata": {
        "trusted": true
      },
      "execution_count": null,
      "outputs": []
    },
    {
      "cell_type": "code",
      "source": "def conforming_ssn(s):\n    return conforming_pyparse(ssn_parser, s)",
      "metadata": {
        "trusted": true
      },
      "execution_count": null,
      "outputs": []
    },
    {
      "cell_type": "code",
      "source": "generate(conforming_ssn)",
      "metadata": {
        "trusted": true
      },
      "execution_count": null,
      "outputs": []
    },
    {
      "cell_type": "markdown",
      "source": "### BNF",
      "metadata": {}
    },
    {
      "cell_type": "code",
      "source": "import math\nimport operator\n\nexprStack = []\n\n\ndef push_first(toks):\n    exprStack.append(toks[0])\n\n\ndef push_unary_minus(toks):\n    for t in toks:\n        if t == \"-\":\n            exprStack.append(\"unary -\")\n        else:\n            break\n\n\nbnf = None\n\n\ndef BNF():\n    \"\"\"\n    expop   :: '^'\n    multop  :: '*' | '/'\n    addop   :: '+' | '-'\n    integer :: ['+' | '-'] '0'..'9'+\n    atom    :: PI | E | real | fn '(' expr ')' | '(' expr ')'\n    factor  :: atom [ expop factor ]*\n    term    :: factor [ multop factor ]*\n    expr    :: term [ addop term ]*\n    \"\"\"\n    global bnf\n    if not bnf:\n        # use CaselessKeyword for e and pi, to avoid accidentally matching\n        # functions that start with 'e' or 'pi' (such as 'exp'); Keyword\n        # and CaselessKeyword only match whole words\n        e = CaselessKeyword(\"E\")\n        pi = CaselessKeyword(\"PI\")\n        # fnumber = Combine(Word(\"+-\"+nums, nums) +\n        #                    Optional(\".\" + Optional(Word(nums))) +\n        #                    Optional(e + Word(\"+-\"+nums, nums)))\n        # or use provided pyparsing_common.number, but convert back to str:\n        # fnumber = ppc.number().addParseAction(lambda t: str(t[0]))\n        fnumber = Regex(r\"[+-]?\\d+(?:\\.\\d*)?(?:[eE][+-]?\\d+)?\")\n        ident = Word(alphas, alphanums + \"_$\")\n\n        plus, minus, mult, div = map(Literal, \"+-*/\")\n        lpar, rpar = map(Suppress, \"()\")\n        addop = plus | minus\n        multop = mult | div\n        expop = Literal(\"^\")\n\n        expr = Forward()\n        expr_list = delimitedList(Group(expr))\n        # add parse action that replaces the function identifier with a (name, number of args) tuple\n        def insert_fn_argcount_tuple(t):\n            fn = t.pop(0)\n            num_args = len(t[0])\n            t.insert(0, (fn, num_args))\n\n        fn_call = (ident + lpar - Group(expr_list) + rpar).setParseAction(\n            insert_fn_argcount_tuple\n        )\n        atom = (\n            addop[...]\n            + (\n                (fn_call | pi | e | fnumber | ident).setParseAction(push_first)\n                | Group(lpar + expr + rpar)\n            )\n        ).setParseAction(push_unary_minus)\n\n        # by defining exponentiation as \"atom [ ^ factor ]...\" instead of \"atom [ ^ atom ]...\", we get right-to-left\n        # exponents, instead of left-to-right that is, 2^3^2 = 2^(3^2), not (2^3)^2.\n        factor = Forward()\n        factor <<= atom + (expop + factor).setParseAction(push_first)[...]\n        term = factor + (multop + factor).setParseAction(push_first)[...]\n        expr <<= term + (addop + term).setParseAction(push_first)[...]\n        bnf = expr\n    return bnf\n",
      "metadata": {
        "trusted": true
      },
      "execution_count": null,
      "outputs": []
    },
    {
      "cell_type": "code",
      "source": "def conforming_bnf(s):\n    return conforming_pyparse(BNF(), s)",
      "metadata": {
        "trusted": true
      },
      "execution_count": null,
      "outputs": []
    },
    {
      "cell_type": "code",
      "source": "generate(conforming_bnf)",
      "metadata": {
        "trusted": true
      },
      "execution_count": null,
      "outputs": []
    },
    {
      "cell_type": "markdown",
      "source": "### URL Parser",
      "metadata": {}
    },
    {
      "cell_type": "code",
      "source": "url_chars = alphanums + '-_.~%+'\n\nfragment  = Combine((Suppress('#') + Word(url_chars)))('fragment')\n\nscheme = oneOf(['http', 'https', 'ftp', 'file'])('scheme')\nhost = Combine(delimitedList(Word(url_chars), '.'))('host')\nport = Suppress(':') + Word(nums)('port')\nuser_info = (\n  Word(url_chars)('username')\n  + Suppress(':')\n  + Word(url_chars)('password')\n  + Suppress('@')\n)\n\nquery_pair = Group(Word(url_chars) + Suppress('=') + Word(url_chars))\nquery = Group(Suppress('?') + delimitedList(query_pair, '&'))('query')\n\npath = Combine(\n  Suppress('/')\n  + OneOrMore(~query + Word(url_chars + '/'))\n)('path')\n\nurl_parser = (\n  scheme\n  + Suppress('://')\n  + Optional(user_info)\n  + host\n  + Optional(port)\n  + Optional(path)\n  + Optional(query)\n  + Optional(fragment)\n)",
      "metadata": {
        "trusted": true
      },
      "execution_count": null,
      "outputs": []
    },
    {
      "cell_type": "code",
      "source": "def conforming_urls(s):\n    return conforming_pyparse(url_parser, s)",
      "metadata": {
        "trusted": true
      },
      "execution_count": null,
      "outputs": []
    },
    {
      "cell_type": "markdown",
      "source": "Pyparser is bad at correctly accounting for spaces.",
      "metadata": {}
    },
    {
      "cell_type": "code",
      "source": "try:\n    url_parser.parseString('http ://')\nexcept ParseException as e:\n    print(e.loc)\n    print(str(e))",
      "metadata": {
        "trusted": true
      },
      "execution_count": null,
      "outputs": []
    },
    {
      "cell_type": "code",
      "source": "SET_OF_BYTES = {c for c in string.printable if c not in \"\\n\\t\\r\\x0b\\x0c\\\\ \"}",
      "metadata": {
        "trusted": true
      },
      "execution_count": null,
      "outputs": []
    },
    {
      "cell_type": "code",
      "source": "(v := generate(conforming_urls, tokens={'http', 'https', 'ftp', 'file', '://'}))",
      "metadata": {
        "trusted": true
      },
      "execution_count": null,
      "outputs": []
    },
    {
      "cell_type": "code",
      "source": "(v1 := generate(conforming_urls, prev_bytes=v, tokens={'http', 'https', 'ftp', 'file', '://'}))",
      "metadata": {
        "trusted": true
      },
      "execution_count": null,
      "outputs": []
    },
    {
      "cell_type": "code",
      "source": "(v2 := generate(conforming_urls,  prev_bytes=v1, tokens={'http', 'https', 'ftp', 'file', '://'}))",
      "metadata": {
        "trusted": true
      },
      "execution_count": null,
      "outputs": []
    },
    {
      "cell_type": "markdown",
      "source": "## End",
      "metadata": {
        "jp-MarkdownHeadingCollapsed": true,
        "tags": []
      }
    }
  ]
}