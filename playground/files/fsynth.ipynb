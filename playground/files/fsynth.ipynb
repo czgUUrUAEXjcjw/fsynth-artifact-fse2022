{
  "metadata": {
    "language_info": {
      "codemirror_mode": {
        "name": "python",
        "version": 3
      },
      "file_extension": ".py",
      "mimetype": "text/x-python",
      "name": "python",
      "nbconvert_exporter": "python",
      "pygments_lexer": "ipython3",
      "version": "3.8"
    },
    "kernelspec": {
      "name": "python",
      "display_name": "Pyolite",
      "language": "python"
    }
  },
  "nbformat_minor": 4,
  "nbformat": 4,
  "cells": [
    {
      "cell_type": "markdown",
      "source": "# In-Browser Playground for FSynth",
      "metadata": {
        "tags": []
      }
    },
    {
      "cell_type": "code",
      "source": "import enum\n\nclass Status(enum.Enum):\n    Complete = 0\n    Incomplete = 1\n    Incorrect = -1",
      "metadata": {
        "trusted": true
      },
      "execution_count": 1,
      "outputs": []
    },
    {
      "cell_type": "markdown",
      "source": "## Conforming Parser",
      "metadata": {}
    },
    {
      "cell_type": "code",
      "source": "import json\nTESTED = {}\nFLAG = ''\n\nnum_runs: int = 0\n\ndef logit(*v):\n    print(FLAG, *v)\n    return\n\n# check if jstr fits in this context.\ndef it_fits(input_str):\n    try:\n        json.loads(input_str)\n        logit('*', repr(input_str))\n        return True\n    except Exception as e:\n        msg = str(e)\n        if msg.startswith('Expecting'):\n            # Expecting value: line 1 column 4 (char 3)\n            n = int(msg.rstrip(')').split()[-1])\n            if n >= len(input_str):\n                logit('+', repr(input_str))\n                return True\n        return False\n\n\ndef validate_json(input_str):\n    global num_runs\n    num_runs += 1\n    try:\n        json.loads(input_str)\n        logit('*', repr(input_str))\n        return Status.Complete, -1, ''\n    except Exception as e:\n        msg = str(e)\n        if msg.startswith('Expecting'):\n            # Expecting value: line 1 column 4 (char 3)\n            n = int(msg.rstrip(')').split()[-1])\n            # If the error is 'outside' the string, it can still be valid\n            if n >= len(input_str):\n                logit('+', repr(input_str))\n                return Status.Incomplete, n, ''\n            elif len(input_str) > 1 and input_str[-1] == '.' and input_str[-2].isdigit():\n                # JSON returns incorrect for [3. rather than incomplete.\n                return Status.Incomplete, n, ''\n            else:\n                logit('X', repr(input_str))\n                remaining = input_str[n:]\n                if remaining in ['t', 'tr', 'tru']:\n                    # check if it fits first.\n                    if it_fits(input_str[:n] + 'true'):\n                        return Status.Incomplete, n, input_str[n]\n                    return Status.Incorrect, n, input_str[n]\n                if remaining in ['f', 'fa', 'fal', 'fals']:\n                    if it_fits(input_str[:n] + 'false'):\n                        return Status.Incomplete, n, input_str[n]\n                    return Status.Incorrect, n, input_str[n]\n                if remaining in ['n', 'nu', 'nul']:\n                    if it_fits(input_str[:n] + 'null'):\n                        return Status.Incomplete, n, input_str[n]\n                    return Status.Incorrect, n, input_str[n]\n                return Status.Incorrect, n, input_str[n]\n        elif msg.startswith('Unterminated'):\n            # Unterminated string starting at: line 1 column 1 (char 0)\n            n = int(msg.rstrip(')').split()[-1])\n            if n >= len(input_str):\n                logit('+', repr(input_str))\n                return Status.Incomplete, n, ''\n            else:\n                logit('+', repr(input_str))\n                return Status.Incomplete, n, input_str[n]\n        elif msg.startswith('Extra data'):\n            n = int(msg.rstrip(')').split()[-1])\n            if n >= len(input_str):\n                logit('X', repr(input_str))\n                return Status.Incorrect, n, ''\n            else:\n                logit('X', repr(input_str))\n                return Status.Incorrect, n, input_str[n]\n        elif msg.startswith('Invalid '):\n            idx = msg.find('(char ')\n            eidx = msg.find(')')\n            s = msg[idx + 6:eidx]\n            n = int(s)\n            logit('X', repr(input_str))\n            return Status.Incorrect, n, input_str[n]\n        else:\n            raise e\n",
      "metadata": {
        "trusted": true
      },
      "execution_count": 2,
      "outputs": []
    },
    {
      "cell_type": "code",
      "source": "import heapq\nimport sys\nimport string\nimport random\nimport enum\nfrom pathlib import Path\n\nMAX_SIMULTANIOUS_CORRECTIONS = 2 # set it to a positive number to restrict the queue.\n\nLAST_INSERT_ONLY = True\n\nCHARACTERS = string.printable\n\"\"\"Characters to be inserted in insertion operations.\n\"\"\"\n\n# the incomplete substring is one behind boundary. i.e inputval[:boundary] \n\nMAX_NUM_PER_MASK = 1\n\nclass Repair:\n    def __repr__(self):\n        s = repr(str(self))\n        v = (self.inputstr, self.boundary, s)\n        return repr(v)\n\n    def set_boundary(self, b):\n        assert b >= 0\n        self.boundary = b\n\n    def __str__(self):\n        return self.inputstr[:self.boundary]\n\n    def __init__(self, inputstr, boundary, mask='', extended=False):\n        assert boundary >= 0\n        self.inputstr, self.boundary = inputstr, boundary\n        self.extended = extended\n        self.mask = mask\n        self._status = None\n\n    def test(self, mystr):\n        return validate(mystr)\n\n    def status(self):\n        if self._status is not None: return self._status\n        self._status = self.my_status()\n        return self._status\n\n    def my_status(self):\n        my_str = self.inputstr[:self.boundary]\n        if self.test(my_str)[0] == Status.Incorrect: return Status.Incorrect\n        if self.test(my_str)[0] == Status.Incomplete: return Status.Incomplete\n        # verify this is actually complete. For example, given [*1], [] is not\n        # complete. It is likely incorrect. The other chance is 12*45 where\n        # 123 is (it is not complete!) incomplete rather than incorrect. To\n        # check this, we need to check the next index too.\n        if self.boundary >= len(self.inputstr): return Status.Complete\n        my_str = self.inputstr[:self.boundary + 1]\n        if self.test(my_str)[0] == Status.Incorrect: return Status.Incorrect\n        if self.test(my_str)[0] == Status.Incomplete: return Status.Incomplete\n\n        # because if 123*5 is fixed to 12395 is complete, then 1239 is\n        # incomplete\n        return Status.Incomplete\n\n    def is_incomplete(self):\n        return self.status() == Status.Incomplete\n\n    def is_incorrect(self):\n        return self.status() == Status.Incorrect\n\n    def is_complete(self):\n        return self.status() == Status.Complete\n\n    def apply_delete(self):\n        return Repair(self.inputstr[:self.boundary] +\n                      self.inputstr[self.boundary + 1:], self.boundary,\n                      mask='%s_D%d' % (self.mask, self.boundary)).extend_deleted_item()\n\n    def insert_at(self, k, i, suffix):\n        v = self.inputstr[:k] + i + self.inputstr[k:self.boundary] + suffix\n        new_item = Repair(v, k, mask='%s_I%d' % (self.mask, k))\n        ie = new_item.extend_inserted_item()\n        if ie.boundary > k:\n           return ie\n        return None\n\n    # one of the problems with deletion is that we do not know exactly where the\n    # character was deleted from, eventhough the parser can be conforming. For\n    # example, given an original string \"[1,2,3]\", where the corruption happened\n    # at the first character, we will only get the failure at the last\n    # character. Hence to be accurate, what we shouuld do is to try insert all\n    # characters everywhere, and see if it helps. This is ofcourse not a very\n    # easy task. So we control this behavior with a switch.\n    def insert_char(self, i):\n        suffix = self.inputstr[self.boundary:]\n        return_lst = []\n        if LAST_INSERT_ONLY:\n            v = self.insert_at(self.boundary, i, suffix)\n            if v is not None: return_lst.append(v)\n        else:\n            # the repair could be any where from 0 to self.boundary (inclusive).\n            # So we try all\n            for k in range(self.boundary):\n                v = self.insert_at(k,i, suffix)\n                if v is not None: return_lst.append(v)\n        return return_lst\n\n    def apply_insert(self):\n        new_items = []\n        for i in CHARACTERS:\n            items = self.insert_char(i)\n            if items:\n                new_items.extend(items)\n        return new_items\n\n    def bsearch_extend_item(self):\n        bs = binary_search(self.inputstr, left=self.boundary, check=check_is_incomplete)\n        assert bs >= 0\n        if bs >= len(self.inputstr):\n            self.set_boundary(bs)\n            self.extended = True\n            return self\n        # e = self.inputstr[bs] # error causing char.\n        self.set_boundary(bs)\n        return self\n\n    # there are many more invalid inserts than valid inserts. So searching the\n    # whole file again is not useful.\n    def lsearch_extend_item(self, nxt=1):\n        # need to be done on the item becauese of invariant.\n        while True:\n            # assert boundary+nxt <= len(inputstr) <- inserts can overshoot\n            if (self.boundary + nxt) > len(self.inputstr):\n                assert len(self.inputstr) == (self.boundary + nxt - 1)\n                self.set_boundary (self.boundary + nxt - 1)\n                self.extended = True\n                return self\n            s = Repair(self.inputstr, self.boundary + nxt)\n            if s.is_incomplete():\n                #return self.extend_deleted_item()\n                nxt += 1\n                continue\n            if s.is_incorrect():\n                # the current nxt is bad, so go back to previous\n                self.set_boundary(self.boundary + nxt - 1)\n                self.extended = True\n                return self\n            if s.is_complete():\n                self.set_boundary(self.boundary + nxt)\n                self.extended = True\n                return self\n            assert False\n        assert False\n\n    def extend_deleted_item(self):\n        assert self._status is None\n        assert not self.extended\n        return self.bsearch_extend_item()\n        #return self.lsearch_extend_item(nxt=0)\n\n    def extend_inserted_item(self):\n        assert self._status is None\n        assert not self.extended\n        return self.lsearch_extend_item(nxt=1)\n        #return self.bsearch_extend_item()\n\n    def repair_and_extend(self):\n        e_arr = []\n        item_d = self.apply_delete()\n        e_arr.append(item_d)\n\n        # for insert only append if it resulted in a boundary increase\n        new_items = self.apply_insert()\n        e_arr.extend(new_items)\n        return e_arr\n\n# https://blog.tylerhou.io/posts/binary-search-with-confidence/\n# check == is_green\ndef binary_search(array, left = 0, right = None, check=None):\n    if not array: return left\n    left, right = 0, len(array) - 1\n\n    #if not check(array, left):\n    #    return left\n    assert check(array, left)\n\n    if check(array, right):\n        return len(array)-1\n    # Main loop which narrows our search range.\n    while left + 1 < right:\n        middle = (left + right) // 2\n        if check(array, middle):\n            left = middle\n        else:\n            right = middle\n    return left\n\n\n# at the boundary, it is always wrong.\n\n# We need to sample from inserts and modifiers to prevent them growing\n# out of bounds. The idea is to collect all delete,insert,modification indexes\n# and form a mask. i.e 3D_4I_5M means that at boundary 3, deletion happened,\n# then, in the resulting string, at boundary4, insertion happenbed, and in the\n# resuting, at boundary 5, modification happened. Then, we sample from the\n# items with same mask. This needs to be done before extending. That is, each\n# extend, we should test all possible character extensions on the sampled\n# strings.\n\ndef sample_items_by_mask(items):\n    # sample here. We only want a fixed number of items per mask.\n    masks = {}\n    for i in items:\n        key = (i.mask, i.boundary, i.inputstr[i.boundary-1:i.boundary])\n        if i.mask not in masks: masks[key] = []\n        masks[key].append(i)\n\n    sampled = []\n    for key in masks:\n        if len(masks[key]) < MAX_NUM_PER_MASK:\n            res = masks[key]\n        else:\n            res = random.sample(masks[key], MAX_NUM_PER_MASK)\n        sampled.extend(res)\n    return filter_best(sampled)\n\ndef filter_best(items):\n    if MAX_SIMULTANIOUS_CORRECTIONS < 0: return items\n    boundaries = sorted({i.boundary for i in items}, reverse=True)\n    return [i for i in items if i.boundary in  boundaries[:MAX_SIMULTANIOUS_CORRECTIONS]]\n\nThreads = []\n\n\ndef find_fixes(inputval, boundary):\n    global Threads\n    # First start with zero edit distance\n    # priority, item where item is an array of elements\n    next_items = [Repair(inputval, boundary, extended=True)]\n    edit_dist = 0\n    while True:\n        FLAG = edit_dist\n        # fetch the first rank groups.\n        current_items = next_items\n        next_items = []\n        chosen_items = sample_items_by_mask(current_items)\n        completed = []\n        for item in chosen_items:\n            # try repair and extending each item until we get incorrect.\n            new_items = item.repair_and_extend()\n\n            for i in new_items:\n                next_items.append(i)\n                if i.is_complete():\n                    completed.append(i)\n                    yield i\n        if completed:\n            break\n        edit_dist += 1\n    assert False\n\n\ndef check_is_incomplete(sval, i):\n    s_ = Repair(sval, i)\n    s = str(s_)\n    return s_.is_incomplete()\n\ndef repair(inputval):\n    assert check_is_incomplete(inputval, 0) # 1\n    # assert not check_is_incomplete(inputval, len(inputval))\n    # first do binary search to find the boundary\n    # not a requirement. Extend item will do as well.\n    boundary = binary_search(inputval, check=check_is_incomplete)\n    c = inputval[boundary] # this should be the error causing char.\n    assert check_is_incomplete(inputval, boundary)\n    # assert not check_is_incomplete(inputval, boundary+1)\n    return find_fixes(inputval, boundary)\n\n\nTESTED = {}\n\ndef validate(input_str):\n    if input_str in TESTED: return TESTED[input_str]\n    TESTED[input_str] = validate_json(input_str)\n    return TESTED[input_str]",
      "metadata": {
        "trusted": true
      },
      "execution_count": 3,
      "outputs": []
    },
    {
      "cell_type": "code",
      "source": "def main(inputval):\n    fixes = []\n    for fix in repair(inputval):\n        fixes.append(fix)\n        break  # Return only the first fix\n    for fix in fixes:\n        print('FIXED', repr(str(fix)))\n    print(f\"Number of oracle runs required for fixing this input: {num_runs}\")",
      "metadata": {
        "trusted": true
      },
      "execution_count": 4,
      "outputs": []
    },
    {
      "cell_type": "code",
      "source": "main('{\"a\":}')",
      "metadata": {
        "trusted": true
      },
      "execution_count": 5,
      "outputs": [
        {
          "name": "stdout",
          "text": "",
          "output_type": "stream"
        },
        {
          "name": "stdout",
          "text": " + ''\n + '{\"a\":'\n + '{\"a\"'\n + '{\"a\":0'\n * '{\"a\":0}'\n + '{\"a\":1'\n * '{\"a\":1}'\n + '{\"a\":2'\n * '{\"a\":2}'\n + '{\"a\":3'\n * '{\"a\":3}'\n + '{\"a\":4'\n * '{\"a\":4}'\n + '{\"a\":5'\n * '{\"a\":5}'\n + '{\"a\":6'\n * '{\"a\":6}'\n + '{\"a\":7'\n * '{\"a\":7}'\n + '{\"a\":8'\n * '{\"a\":8}'\n + '{\"a\":9'\n * '{\"a\":9}'\n X '{\"a\":a'\n X '{\"a\":b'\n X '{\"a\":c'\n X '{\"a\":d'\n X '{\"a\":e'\n X '{\"a\":f'\n + '{\"a\":false'\n X '{\"a\":f}'\n X '{\"a\":g'\n X '{\"a\":h'\n X '{\"a\":i'\n X '{\"a\":j'\n X '{\"a\":k'\n X '{\"a\":l'\n X '{\"a\":m'\n X '{\"a\":n'\n + '{\"a\":null'\n X '{\"a\":n}'\n X '{\"a\":o'\n X '{\"a\":p'\n X '{\"a\":q'\n X '{\"a\":r'\n X '{\"a\":s'\n X '{\"a\":t'\n + '{\"a\":true'\n X '{\"a\":t}'\n X '{\"a\":u'\n X '{\"a\":v'\n X '{\"a\":w'\n X '{\"a\":x'\n X '{\"a\":y'\n X '{\"a\":z'\n X '{\"a\":A'\n X '{\"a\":B'\n X '{\"a\":C'\n X '{\"a\":D'\n X '{\"a\":E'\n X '{\"a\":F'\n X '{\"a\":G'\n X '{\"a\":H'\n X '{\"a\":I'\n X '{\"a\":J'\n X '{\"a\":K'\n X '{\"a\":L'\n X '{\"a\":M'\n X '{\"a\":N'\n X '{\"a\":O'\n X '{\"a\":P'\n X '{\"a\":Q'\n X '{\"a\":R'\n X '{\"a\":S'\n X '{\"a\":T'\n X '{\"a\":U'\n X '{\"a\":V'\n X '{\"a\":W'\n X '{\"a\":X'\n X '{\"a\":Y'\n X '{\"a\":Z'\n X '{\"a\":!'\n + '{\"a\":\"'\n + '{\"a\":\"}'\n X '{\"a\":#'\n X '{\"a\":$'\n X '{\"a\":%'\n X '{\"a\":&'\n X '{\"a\":\\''\n X '{\"a\":('\n X '{\"a\":)'\n X '{\"a\":*'\n X '{\"a\":+'\n X '{\"a\":,'\n X '{\"a\":-'\n X '{\"a\":.'\n X '{\"a\":/'\n X '{\"a\"::'\n X '{\"a\":;'\n X '{\"a\":<'\n X '{\"a\":='\n X '{\"a\":>'\n X '{\"a\":?'\n X '{\"a\":@'\n + '{\"a\":['\n X '{\"a\":[}'\n X '{\"a\":\\\\'\n X '{\"a\":]'\n X '{\"a\":^'\n X '{\"a\":_'\n X '{\"a\":`'\n + '{\"a\":{'\n + '{\"a\":{}'\n X '{\"a\":|'\n X '{\"a\":}'\n X '{\"a\":~'\n + '{\"a\": '\n X '{\"a\": }'\n + '{\"a\":\\t'\n X '{\"a\":\\t}'\n + '{\"a\":\\n'\n X '{\"a\":\\n}'\n + '{\"a\":\\r'\n X '{\"a\":\\r}'\n X '{\"a\":\\x0b'\n X '{\"a\":\\x0c'\nFIXED '{\"a\":0}'\nNumber of oracle runs required for fixing this input: 123\n",
          "output_type": "stream"
        }
      ]
    }
  ]
}